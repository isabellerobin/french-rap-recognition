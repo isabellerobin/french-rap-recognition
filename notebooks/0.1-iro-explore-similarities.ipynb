{
 "cells": [
  {
   "cell_type": "code",
   "execution_count": 16,
   "metadata": {},
   "outputs": [
    {
     "name": "stdout",
     "output_type": "stream",
     "text": [
      "The autoreload extension is already loaded. To reload it, use:\n",
      "  %reload_ext autoreload\n"
     ]
    }
   ],
   "source": [
    "%load_ext autoreload\n",
    "%autoreload 2\n",
    "\n",
    "from src.data.scrap_dataset import *"
   ]
  },
  {
   "cell_type": "raw",
   "metadata": {},
   "source": []
  },
  {
   "cell_type": "code",
   "execution_count": 37,
   "metadata": {},
   "outputs": [],
   "source": [
    "artists = scrap_artists()"
   ]
  },
  {
   "cell_type": "code",
   "execution_count": 38,
   "metadata": {},
   "outputs": [
    {
     "data": {
      "text/plain": [
       "['Booba',\n",
       " 'IAM',\n",
       " 'Suprême NTM',\n",
       " 'MC Solaar',\n",
       " 'Oxmo Puccino',\n",
       " 'Fonky Family',\n",
       " 'Orelsan',\n",
       " 'Ken Samaras',\n",
       " 'Assassin',\n",
       " \"Diam's\",\n",
       " 'La Rumeur',\n",
       " 'Ärsenik',\n",
       " 'Kery James',\n",
       " 'Sniper',\n",
       " 'Akhenaton',\n",
       " 'Keny Arkana',\n",
       " 'Médine',\n",
       " 'Soprano',\n",
       " 'Jul',\n",
       " 'Saïan Supa Crew',\n",
       " 'Rohff',\n",
       " \"Rim'K\",\n",
       " 'Ninho',\n",
       " 'Hocus Pocus',\n",
       " 'Sinik',\n",
       " 'La Caution',\n",
       " 'Ministère AMER',\n",
       " 'Scred Connexion',\n",
       " 'Kaaris',\n",
       " 'La Fouine',\n",
       " 'Psy 4 de la Rime',\n",
       " \"Sexion D'assaut\",\n",
       " 'Disiz La Peste',\n",
       " \"Mafia K'1 Fry\",\n",
       " 'Secteur Ä',\n",
       " 'Les Sages Poètes de la Rue',\n",
       " 'Sofiano',\n",
       " 'Lunatic',\n",
       " 'Niska',\n",
       " 'Tunisiano',\n",
       " 'Lomepal',\n",
       " '1995',\n",
       " 'Gradur',\n",
       " 'La Cliqua',\n",
       " 'Passi',\n",
       " 'Dee Nasty',\n",
       " 'Youssoupha',\n",
       " 'SCH',\n",
       " 'MHD',\n",
       " 'Lartiste',\n",
       " 'Vald']"
      ]
     },
     "execution_count": 38,
     "metadata": {},
     "output_type": "execute_result"
    }
   ],
   "source": [
    "artists"
   ]
  }
 ],
 "metadata": {
  "kernelspec": {
   "display_name": "Python 3",
   "language": "python",
   "name": "python3"
  },
  "language_info": {
   "codemirror_mode": {
    "name": "ipython",
    "version": 3
   },
   "file_extension": ".py",
   "mimetype": "text/x-python",
   "name": "python",
   "nbconvert_exporter": "python",
   "pygments_lexer": "ipython3",
   "version": "3.6.9"
  }
 },
 "nbformat": 4,
 "nbformat_minor": 4
}
