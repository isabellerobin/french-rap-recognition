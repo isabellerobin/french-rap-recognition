{
 "cells": [
  {
   "cell_type": "code",
   "execution_count": 80,
   "metadata": {},
   "outputs": [
    {
     "name": "stdout",
     "output_type": "stream",
     "text": [
      "The autoreload extension is already loaded. To reload it, use:\n",
      "  %reload_ext autoreload\n"
     ]
    }
   ],
   "source": [
    "%load_ext autoreload\n",
    "%autoreload 2\n",
    "\n",
    "from src.data.scrape_dataset import *\n",
    "import click\n",
    "import requests\n",
    "from bs4 import BeautifulSoup\n",
    "from dotenv import find_dotenv, load_dotenv\n",
    "from requests import Response\n",
    "from requests.adapters import HTTPAdapter\n",
    "from typing import List, Optional\n",
    "from urllib3 import Retry\n",
    "import re"
   ]
  },
  {
   "cell_type": "code",
   "execution_count": 3,
   "metadata": {},
   "outputs": [],
   "source": [
    "lyrics_file = open(\"../data/external/lyrics.txt\", \"a\")"
   ]
  },
  {
   "cell_type": "code",
   "execution_count": 50,
   "metadata": {},
   "outputs": [],
   "source": [
    "url = \"https://www.paroles-musique.com/paroles-Hocus_Pocus-Vocab_-lyrics,p02807773\""
   ]
  },
  {
   "cell_type": "code",
   "execution_count": 51,
   "metadata": {},
   "outputs": [],
   "source": [
    "resp = get_url_content(url)"
   ]
  },
  {
   "cell_type": "code",
   "execution_count": 52,
   "metadata": {},
   "outputs": [],
   "source": [
    "soup = BeautifulSoup(resp.content, \"html.parser\")"
   ]
  },
  {
   "cell_type": "code",
   "execution_count": 58,
   "metadata": {},
   "outputs": [
    {
     "data": {
      "text/plain": [
       "'\\nCouplet 1:\\nHocus Pocus\\'s in the place to be\\nAll christians\\nI check it out one time\\nYeah\\nJ\\'voudrais qu\\'mes mots sonnent comme \"check it down\"\\nQue quand t\\'écoutes tu dises \"you know what it\\'s all\\nabout?\"\\nOu bien \"no doubt\"\\nCette phase qui claque sur basse qui t\\'bloque au sol,\\nQui t\\'va, qui t\\'craque, et nique la console\\nCome on!\\nMa langue à l\\'histoire les racines et le sens, slaleur a\\nlestar fashion est le slam\\nNo shit on me\\nPutain d\\'accent j\\'veux l\\'même dans mes textes\\nMais quand j\\'rap cain-ri tout l\\'monde me dit \"who\\'s next?\"\\nIls me disent tous \"le yaourt abandonne\"\\nAlors en s\\'cret j\\'fais tourner la MPC j\\'improvise danone\\nSur mon coin d\\'hexagone j\\'examine la donne,\\nEntre shakespeare, stalonne, j\\'expire, tatonne\\nPour trouver mon truc, assumer mon language\\nMême si chez moi les \"r\" sonnent et que eux les machent\\nOn a leur wc, leur sanwich et leur chewing-gum vert\\nEt eux on notre \"savoir-faire\"\\n\\nRefrain: (x2)\\nJ\\'veux pas d\\'tes \"fuck\" pas d\\'tes \"shit\" pas d\\'tes \"mother\\nfucker\"\\nJ\\'veux pas d\\'tes \"nigga\" pas d\\'tes \"bitch\" pas d\\'tes\\n\"sucker\"\\n\\nCouplet 2:\\nNow what I\\'m asking for is maxiumum de bruit\\nI\\'m actually asking if you see\\nA passionate MC\\nI\\'m past masking who I be\\nI paid my dues\\nIts like \"tout le monde\" if th ey playin y\\'all like de-ja vu\\nI\\'m sayin dude, they givin us the same one liners\\nMoney, drugs, guns, honeys love mining for gold cash,\\nDiamonds in the ears of dead soldiers\\nYo I\\'m holdin fast rhymes for the years they left over\\n\\nOui Oui\\n\\nSometimes when I be chillin\\nI can understand a word, or two, maybe three\\nGood day-- six, but most of the time, french\\nRocks shine in bits\\nMany times its the point that I miss,\\nBut if i like it, I bump it\\nBut I won\\'t know the jist\\nI\\'ll hum along riff, mais j\\'sais pas c\\'est quoi\\nI\\'d rather (unknown)\\n\\nNow on the regular, not a church girl\\nShe was secular, not about the money\\nSomebody redirected her\\nI know i met her at a earlier age\\nBut she dont\\' look the same way on a page\\nGot a brother confused\\nAnd I ain\\'t willing to lose\\nYou can believe me a fool\\nWhen its cool, cause after all of this music\\nI tell her je ne parle pas francais\\nBut when the rhythym is cool\\nIt doesn\\'t matter if together we move\\nCome on!\\n\\nRefrain: (x2)\\n\\nCouplet 3:\\nJ\\'l\\'eur ai piqué des mots de ci de là\\nEt mon champs lexical vaut pas plus de 6$\\nJ\\'me prends pas pour Jay D là loin de là\\nJ\\'reste fan bref j\\'idolatre plein de gars\\nOne love\\nParce que trop de classiques\\nMe mettent presque en transe\\nMais parfois j\\'tombe de haut quand j\\'en saisis l\\'sens\\nOn s\\'moque du fond quand on atteint la cible\\nRésultat plus de beat que d\\'mots intelligibles\\nLet\\'s ***, that mother f***, in the ***\\nPardon? once again\\nNon non passons\\nJ\\'aime ma langue natale mais j\\'dirais fatalement\\nQu\\'elle a la musicalité d\\'un régiment allemand\\nJ\\'suis né ici, pas a NYC parfois plutôt fier\\nQuand j\\'arrive a faire chanter c\\'foutu Vocabulaire\\nOn a leur soda, leur best of du business de Bush fils\\nEt eux on notre French kiss\\n\\nRefrain: (x2)\\n\\nI like your \"peace\", like \"your unity\", like \"your love\"\\nI like \"your jazz\", like \"your soul\", like \"your hip hop\"\\nI like your \"peace\", like \"your unity\", like \"your love\"\\nI like \"your jazz\", like \"your soul\", like \"your hip hop\"'"
      ]
     },
     "execution_count": 58,
     "metadata": {},
     "output_type": "execute_result"
    }
   ],
   "source": [
    "soup.find_all(\"div\", {\"id\": \"lyrics\"})[0].text"
   ]
  },
  {
   "cell_type": "code",
   "execution_count": 63,
   "metadata": {},
   "outputs": [],
   "source": [
    "lyrics_url = [anchor[\"href\"] for anchor in soup.find_all(lambda tag: tag.name == \"table\", {\"class\": \"table_std1\"})[0].find_all(\"a\")]"
   ]
  },
  {
   "cell_type": "code",
   "execution_count": 64,
   "metadata": {
    "scrolled": true
   },
   "outputs": [
    {
     "data": {
      "text/plain": [
       "['./paroles-Hocus_Pocus-Voyage_immobile-lyrics,p02807775',\n",
       " './paroles-Hocus_Pocus-100_Grammes_De_Peur-lyrics,p177546',\n",
       " './paroles-Hocus_Pocus-You-lyrics,p021747618',\n",
       " './paroles-Hocus_Pocus-Mr_Tout_Le_Monde-lyrics,p71074',\n",
       " './paroles-Hocus_Pocus-73_touches-lyrics,p02807666',\n",
       " './paroles-Hocus_Pocus-Equilibre-lyrics,p180557',\n",
       " './paroles-Hocus_Pocus-Papa-lyrics,p80138',\n",
       " './paroles-Hocus_Pocus-Jaimerais-lyrics,p02807699',\n",
       " './paroles-Hocus_Pocus-Malade_2006-lyrics,p02807722',\n",
       " './paroles-Hocus_Pocus-Normal-lyrics,p02807726',\n",
       " './paroles-Hocus_Pocus-Quitte_a_taimer-lyrics,p02807749',\n",
       " './paroles-Hocus_Pocus-Recycle-lyrics,p02807750',\n",
       " './paroles-Hocus_Pocus-Vocab_prelude-lyrics,p02807774',\n",
       " './paroles-Hocus_Pocus-Tournee-lyrics,p02807764',\n",
       " './paroles-Hocus_Pocus-Move_On-lyrics,p02807724',\n",
       " './paroles-Hocus_Pocus-Touriste-lyrics,p02807763',\n",
       " './paroles-Hocus_Pocus-Je_la_soul-lyrics,p02807708',\n",
       " './paroles-Hocus_Pocus-Comment_on_faisait_-lyrics,p015086905',\n",
       " './paroles-Hocus_Pocus-Smile_Acoustic-lyrics,p02807758',\n",
       " './paroles-Hocus_Pocus-Faits_divers-lyrics,p02807686',\n",
       " './paroles-Hocus_Pocus-Le_Majeur_Qui_Me_Demange-lyrics,p02807714',\n",
       " './paroles-Hocus_Pocus-Les_conquistadors-lyrics,p02807716',\n",
       " './paroles-Hocus_Pocus-Une_zone_de_tensions-lyrics,p02807767',\n",
       " './paroles-Hocus_Pocus-On_and_On_live-lyrics,p02807730',\n",
       " './paroles-Hocus_Pocus-Keep_It_Movin_2-lyrics,p021747615',\n",
       " './paroles-Hocus_Pocus-Feel_Good-lyrics,p021747614',\n",
       " './paroles-Hocus_Pocus-Onandon_Pt_2-lyrics,p021747616',\n",
       " './paroles-Hocus_Pocus-Put_de_melodie_BT_remix-lyrics,p011800467',\n",
       " './paroles-Hocus_Pocus-W000-lyrics,p011769593',\n",
       " './paroles-Hocus_Pocus-Keep_it_movin-lyrics,p02807711',\n",
       " './paroles-Hocus_Pocus-Malade_live-lyrics,p02807721',\n",
       " './paroles-Hocus_Pocus-On_and_On_live_version-lyrics,p02807729',\n",
       " './paroles-Hocus_Pocus-Put_de_melodie_Beat_Torrent_Remix-lyrics,p017796327',\n",
       " './paroles-Hocus_Pocus-A_Mi-Chemin_Soul_Square_Remix-lyrics,p014052248',\n",
       " './paroles-Hocus_Pocus-Jattends_remix-lyrics,p02807705',\n",
       " './paroles-Hocus_Pocus-Pascal-lyrics,p34530',\n",
       " './paroles-Hocus_Pocus-A_Mi-chemin-lyrics,p177550',\n",
       " './paroles-Hocus_Pocus-Place_54-lyrics,p180558',\n",
       " './paroles-Hocus_Pocus-Portrait-lyrics,p177543',\n",
       " './paroles-Hocus_Pocus-Putain_De_Melodie-lyrics,p80137',\n",
       " './paroles-Hocus_Pocus-Smile-lyrics,p187959',\n",
       " './paroles-Hocus_Pocus-Vocab_Feat_The_Procussions-lyrics,p73253',\n",
       " './paroles-Hocus_Pocus-Vocab_ft_Procussions-lyrics,p73252',\n",
       " './paroles-Hocus_Pocus-Jattends-lyrics,p24811',\n",
       " './paroles-Hocus_Pocus-Jaimerais_Ijkt_Nop-lyrics,p34532',\n",
       " './paroles-Hocus_Pocus-I_Wanna_Know-lyrics,p80148',\n",
       " './paroles-Hocus_Pocus-2506-lyrics,p177545',\n",
       " './paroles-Hocus_Pocus-73_Taches-lyrics,p34536',\n",
       " './paroles-Hocus_Pocus-Beautiful_Losers-lyrics,p177548',\n",
       " './paroles-Hocus_Pocus-Hip_Hop_-lyrics,p02807689',\n",
       " './paroles-Hocus_Pocus-Brouillon-lyrics,p34534',\n",
       " './paroles-Hocus_Pocus-Comment_On_Faisait-lyrics,p34531',\n",
       " './paroles-Hocus_Pocus-Conecte-lyrics,p164913',\n",
       " './paroles-Hocus_Pocus-Dig_This-lyrics,p187961',\n",
       " './paroles-Hocus_Pocus-Du_Sable_Sur_Les_Paupieres-lyrics,p180560',\n",
       " './paroles-Hocus_Pocus-Geometrie-lyrics,p34533',\n",
       " './paroles-Hocus_Pocus-Hip_Hop_feat_The_Procussions-lyrics,p34535',\n",
       " './paroles-Hocus_Pocus-Histoire_Dune_VHS-lyrics,p180559',\n",
       " './paroles-Hocus_Pocus-WOOO-lyrics,p177547',\n",
       " './paroles-Hocus_Pocus-On_And_On-lyrics,p34538',\n",
       " './paroles-Hocus_Pocus-Malade-lyrics,p34537',\n",
       " './paroles-Hocus_Pocus-Le_Majeur_Qui_Me_Demange-lyrics,p177549',\n",
       " './paroles-Hocus_Pocus-Smile_Acoustic_Version-lyrics,p022560183']"
      ]
     },
     "execution_count": 64,
     "metadata": {},
     "output_type": "execute_result"
    }
   ],
   "source": [
    "lyrics_url"
   ]
  },
  {
   "cell_type": "code",
   "execution_count": 68,
   "metadata": {},
   "outputs": [],
   "source": [
    "lyrics = []\n",
    "for lyric_url in lyrics_url:\n",
    "    lyric_resp = get_url_content('https://www.paroles-musique.com' + lyric_url[1:])\n",
    "    lyric_soup = BeautifulSoup(lyric_resp.content, \"html.parser\")\n",
    "    lyrics.append(lyric_soup.find_all(\"div\", {\"id\": \"lyrics\"})[0].text)"
   ]
  },
  {
   "cell_type": "code",
   "execution_count": 92,
   "metadata": {},
   "outputs": [],
   "source": [
    "titles = []\n",
    "for lyric_url in lyrics_url:\n",
    "    title = lyric_url[22:]\n",
    "    titles.append(re.findall(\"^(.+?),\", title)[0][:-7].replace(\"_\", \" \"))"
   ]
  },
  {
   "cell_type": "code",
   "execution_count": 99,
   "metadata": {},
   "outputs": [],
   "source": [
    "for title, lyric in zip(titles, lyrics):\n",
    "    lyrics_file.write(\"Hocus Pocus\" + \" |\" + title + \"|\" + lyric + \"|| \\n\")"
   ]
  }
 ],
 "metadata": {
  "kernelspec": {
   "display_name": "Python 3",
   "language": "python",
   "name": "python3"
  },
  "language_info": {
   "codemirror_mode": {
    "name": "ipython",
    "version": 3
   },
   "file_extension": ".py",
   "mimetype": "text/x-python",
   "name": "python",
   "nbconvert_exporter": "python",
   "pygments_lexer": "ipython3",
   "version": "3.6.9"
  }
 },
 "nbformat": 4,
 "nbformat_minor": 4
}
